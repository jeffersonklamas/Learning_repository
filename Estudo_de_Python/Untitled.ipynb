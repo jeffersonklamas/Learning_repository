{
 "cells": [
  {
   "cell_type": "code",
   "execution_count": null,
   "metadata": {},
   "outputs": [],
   "source": [
    "\n",
    "import numpy as np\n",
    "from matplotlib import pyplot as plt\n",
    "import random\n",
    "from random import seed\n",
    "seed(100)\n",
    "\n",
    "portas = [1,2,3]\n",
    "Nmax = 1000000\n",
    "P = [] # armazena a fração de vitorias\n",
    "vN = [] # armazena o numero de jogos\n",
    "for N in np.arange(1, Nmax,10):\n",
    "    vitoria = 0\n",
    "    derrota = 0\n",
    "    for i in range(0,N):\n",
    "        C = random.choice(portas) # coloca o carro em uma porta\n",
    "        X = random.choice(portas) # seleciona uma porta\n",
    "        if(C != X): # se carro não está na porta selecionada\n",
    "            # o apresendador irá abrir outra porta que tem o bode. \n",
    "            # Trocando a porta, ganha-se o carro.\n",
    "            vitoria = vitoria + 1\n",
    "    P.append(vitoria/N)\n",
    "    vN.append(N)\n",
    "plt.figure(figsize=(12,8))\n",
    "plt.plot(vN, P, 'ro-', label='Simulação: Muda a porta')\n",
    "plt.axhline(y=2/3,color='blue', label='Prob. teórica com mudança de porta')\n",
    "plt.ylim(0,1.05)\n",
    "plt.legend()\n",
    "plt.show(True)"
   ]
  },
  {
   "cell_type": "code",
   "execution_count": null,
   "metadata": {},
   "outputs": [],
   "source": []
  },
  {
   "cell_type": "code",
   "execution_count": null,
   "metadata": {},
   "outputs": [],
   "source": []
  }
 ],
 "metadata": {
  "kernelspec": {
   "display_name": "Python 3",
   "language": "python",
   "name": "python3"
  },
  "language_info": {
   "codemirror_mode": {
    "name": "ipython",
    "version": 3
   },
   "file_extension": ".py",
   "mimetype": "text/x-python",
   "name": "python",
   "nbconvert_exporter": "python",
   "pygments_lexer": "ipython3",
   "version": "3.8.3"
  }
 },
 "nbformat": 4,
 "nbformat_minor": 4
}
